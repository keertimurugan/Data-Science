{
 "cells": [
  {
   "cell_type": "code",
   "execution_count": 213,
   "metadata": {},
   "outputs": [
    {
     "data": {
      "text/html": [
       "<div>\n",
       "<style scoped>\n",
       "    .dataframe tbody tr th:only-of-type {\n",
       "        vertical-align: middle;\n",
       "    }\n",
       "\n",
       "    .dataframe tbody tr th {\n",
       "        vertical-align: top;\n",
       "    }\n",
       "\n",
       "    .dataframe thead th {\n",
       "        text-align: right;\n",
       "    }\n",
       "</style>\n",
       "<table border=\"1\" class=\"dataframe\">\n",
       "  <thead>\n",
       "    <tr style=\"text-align: right;\">\n",
       "      <th></th>\n",
       "      <th>path</th>\n",
       "      <th>dialogues</th>\n",
       "    </tr>\n",
       "  </thead>\n",
       "  <tbody>\n",
       "    <tr>\n",
       "      <td>0</td>\n",
       "      <td>img1</td>\n",
       "      <td>कई अजीब कहानियों के बारे में बताया जाता है.. भ...</td>\n",
       "    </tr>\n",
       "    <tr>\n",
       "      <td>1</td>\n",
       "      <td>img2</td>\n",
       "      <td>यह मोगली नाम के एक छोटे लड़के की कहानी है</td>\n",
       "    </tr>\n",
       "    <tr>\n",
       "      <td>2</td>\n",
       "      <td>img3</td>\n",
       "      <td>यह सब जंगल में एक अजीब आवाज के साथ शुरू हुआ</td>\n",
       "    </tr>\n",
       "    <tr>\n",
       "      <td>3</td>\n",
       "      <td>img4</td>\n",
       "      <td>बीगेरा ने बच्चे की आवाज सुनी</td>\n",
       "    </tr>\n",
       "    <tr>\n",
       "      <td>4</td>\n",
       "      <td>img5</td>\n",
       "      <td>यह एक इंसान का बच्चा था!</td>\n",
       "    </tr>\n",
       "    <tr>\n",
       "      <td>5</td>\n",
       "      <td>img6</td>\n",
       "      <td>मनुष्य गाँव में रहते थे जो कि बहुत दूर था</td>\n",
       "    </tr>\n",
       "    <tr>\n",
       "      <td>6</td>\n",
       "      <td>img7</td>\n",
       "      <td>और माँ की देखभाल के बिना, वह बच्चा जल्द ही ख़त...</td>\n",
       "    </tr>\n",
       "    <tr>\n",
       "      <td>7</td>\n",
       "      <td>wolf1</td>\n",
       "      <td>बघीरा ने मदद के लिए रक्षा को बुलाया</td>\n",
       "    </tr>\n",
       "    <tr>\n",
       "      <td>8</td>\n",
       "      <td>wolf2</td>\n",
       "      <td>रक्षा: ये कैसे हुआ! मैं बच्चे को अकेला नहीं छो...</td>\n",
       "    </tr>\n",
       "    <tr>\n",
       "      <td>9</td>\n",
       "      <td>wolf4</td>\n",
       "      <td>भेड़ियों ने बच्चे को गोद लेने का फैसला किया</td>\n",
       "    </tr>\n",
       "  </tbody>\n",
       "</table>\n",
       "</div>"
      ],
      "text/plain": [
       "    path                                          dialogues\n",
       "0   img1  कई अजीब कहानियों के बारे में बताया जाता है.. भ...\n",
       "1   img2          यह मोगली नाम के एक छोटे लड़के की कहानी है\n",
       "2   img3        यह सब जंगल में एक अजीब आवाज के साथ शुरू हुआ\n",
       "3   img4                       बीगेरा ने बच्चे की आवाज सुनी\n",
       "4   img5                           यह एक इंसान का बच्चा था!\n",
       "5   img6          मनुष्य गाँव में रहते थे जो कि बहुत दूर था\n",
       "6   img7  और माँ की देखभाल के बिना, वह बच्चा जल्द ही ख़त...\n",
       "7  wolf1                बघीरा ने मदद के लिए रक्षा को बुलाया\n",
       "8  wolf2  रक्षा: ये कैसे हुआ! मैं बच्चे को अकेला नहीं छो...\n",
       "9  wolf4        भेड़ियों ने बच्चे को गोद लेने का फैसला किया"
      ]
     },
     "execution_count": 213,
     "metadata": {},
     "output_type": "execute_result"
    }
   ],
   "source": [
    "#Reads image names and dialogues from CSV\n",
    "\n",
    "import pandas as pd\n",
    "data = pd.read_csv('toons/mowgli/dialog.csv')\n",
    "data.head(10)"
   ]
  },
  {
   "cell_type": "code",
   "execution_count": 214,
   "metadata": {},
   "outputs": [
    {
     "name": "stdout",
     "output_type": "stream",
     "text": [
      "1 917 43\n",
      "1 594 44\n",
      "1 670 46\n",
      "1 394 46\n",
      "1 361 47\n",
      "1 510 46\n",
      "1 828 46\n",
      "1 494 46\n",
      "1 711 47\n",
      "1 564 47\n",
      "1 535 46\n",
      "1 655 46\n",
      "1 769 44\n",
      "1 298 47\n",
      "1 593 47\n",
      "1 191 42\n",
      "1 160 42\n",
      "1 841 47\n",
      "1 578 47\n",
      "1 479 47\n",
      "1 780 46\n",
      "1 634 46\n",
      "1 763 47\n",
      "1 428 44\n",
      "1 440 47\n",
      "1 404 43\n",
      "1 678 46\n",
      "1 918 46\n",
      "1 671 46\n",
      "1 49 36\n",
      "1 821 46\n",
      "1 512 46\n",
      "1 377 46\n",
      "1 44 36\n",
      "1 701 36\n",
      "1 515 43\n",
      "1 735 46\n",
      "1 385 46\n",
      "1 156 47\n",
      "1 247 43\n",
      "1 487 47\n",
      "1 539 46\n",
      "1 472 46\n",
      "1 650 46\n",
      "1 22 36\n",
      "1 22 36\n",
      "1 118 37\n",
      "1 22 36\n",
      "1 397 41\n",
      "1 304 47\n",
      "1 576 44\n",
      "1 391 47\n",
      "1 453 46\n",
      "1 495 47\n",
      "1 22 36\n",
      "1 259 47\n",
      "1 273 47\n",
      "1 506 46\n",
      "1 322 46\n",
      "1 681 46\n",
      "1 22 36\n",
      "1 598 47\n",
      "1 465 47\n",
      "1 218 37\n",
      "1 108 37\n",
      "1 22 36\n",
      "1 620 44\n",
      "1 542 46\n",
      "1 507 46\n",
      "1 823 42\n",
      "1 589 47\n",
      "1 289 43\n",
      "1 311 43\n",
      "1 22 36\n",
      "1 22 36\n",
      "1 172 43\n",
      "1 22 36\n",
      "1 132 43\n",
      "1 274 47\n",
      "1 22 36\n",
      "1 22 36\n",
      "1 181 43\n",
      "1 329 46\n",
      "1 586 47\n",
      "1 127 42\n",
      "1 136 46\n",
      "1 446 43\n",
      "1 182 43\n",
      "1 181 43\n",
      "1 22 36\n",
      "1 161 38\n",
      "1 161 43\n",
      "1 327 43\n",
      "1 451 46\n",
      "1 278 46\n",
      "1 317 47\n",
      "1 288 46\n",
      "1 382 45\n",
      "1 253 46\n",
      "1 112 37\n"
     ]
    }
   ],
   "source": [
    "from PIL import Image as pili, ImageDraw as pild, ImageFont as pilf \n",
    "\n",
    "#takes a range of 100 \n",
    "for i in range(100):\n",
    "    from IPython.display import Image\n",
    "    Image(filename='toons/Mowgli/'+str(data.values[i][0])+'.jpg', width=400)\n",
    "    \n",
    "\n",
    "    # Add dialogs\n",
    "\n",
    "    from PIL import Image as pili, ImageDraw as pild, ImageFont as pilf \n",
    "\n",
    "    caption = data.values[i][1]\n",
    "\n",
    "    TINT_COLOR = (0, 0, 0)  # Black\n",
    "    #TRANSPARENCY = .25  # Degree of transparency, 0-100%\n",
    "    #OPACITY = int(255 * TRANSPARENCY)\n",
    "\n",
    "    from PIL import Image, ImageFont, ImageDraw\n",
    "    \n",
    "    #Takes path values from the CSV file and opens all the images using for loop\n",
    "    img = pili.open('toons/Mowgli/'+str(data.values[i][0])+'.jpg').convert('RGBA')\n",
    "\n",
    "    overlay = pili.new('RGBA', img.size, TINT_COLOR+(0,))\n",
    "    draw = pild.Draw(overlay)\n",
    "    font = pilf.truetype(\"toons/Noto-unhinted/NotoSansDevanagari-ExtraCondensedBlack.ttf\", 40)\n",
    "    #x, y = (img.width - 510, img.height-100)\n",
    "    text = caption\n",
    "    w, h = font.getsize(text)\n",
    "    num_lines = len(text.split('\\n'))\n",
    "    print(num_lines, w, h)\n",
    "    x, y = 20, img.height - (num_lines-0.1*num_lines)*h\n",
    "    draw.rectangle((x, y, x + w, y + h), fill='black')\n",
    "    draw.text((x, y), text, fill=(255, 255, 0), font=font)\n",
    "\n",
    "    # Alpha composite these two images together to obtain the desired result.\n",
    "    img = pili.alpha_composite(img, overlay)\n",
    "    img = img.convert(\"RGB\") # Remove alpha for saving in jpg format.\n",
    "    \n",
    "  #Saves the .jpg images to a folder 'img'\n",
    "    list_img = img.save('toons/Mowgli/img/'+str(data.values[i][0])+'.jpg')"
   ]
  },
  {
   "cell_type": "code",
   "execution_count": 215,
   "metadata": {},
   "outputs": [
    {
     "name": "stderr",
     "output_type": "stream",
     "text": [
      "C:\\Users\\keert\\Anaconda3\\lib\\site-packages\\ipykernel_launcher.py:16: FutureWarning: arrays to stack must be passed as a \"sequence\" type such as list or tuple. Support for non-sequence iterables such as generators is deprecated as of NumPy 1.16 and will raise an error in the future.\n",
      "  app.launch_new_instance()\n"
     ]
    }
   ],
   "source": [
    "#Stitches 5 images together in a horizontal strip and stores the resulting image in 'img2' folder\n",
    "\n",
    "import numpy as np\n",
    "import PIL\n",
    "\n",
    "list_im = ['toons/Mowgli/img/img1.jpg',\n",
    "            'toons/Mowgli/img/img2.jpg',\n",
    "            'toons/Mowgli/img/img3.jpg',\n",
    "           'toons/Mowgli/img/img4.jpg',\n",
    "           'toons/Mowgli/img/img5.jpg'\n",
    "            ]\n",
    "imgs    = [ PIL.Image.open(i) for i in list_im ]\n",
    "\n",
    "# pick the image which is the smallest, and resize the others to match it (can be arbitrary image shape here)\n",
    "min_shape = sorted( [(np.sum(i.size), i.size ) for i in imgs])[0][1]\n",
    "imgs_comb = np.hstack( (np.asarray( i.resize(min_shape) ) for i in imgs ) )\n",
    "\n",
    "# save that beautiful picture\n",
    "imgs_comb = PIL.Image.fromarray( imgs_comb)\n",
    "imgs_comb.save( 'toons/Mowgli/img2/1.png' )   "
   ]
  },
  {
   "cell_type": "code",
   "execution_count": 216,
   "metadata": {},
   "outputs": [
    {
     "name": "stderr",
     "output_type": "stream",
     "text": [
      "C:\\Users\\keert\\Anaconda3\\lib\\site-packages\\ipykernel_launcher.py:16: FutureWarning: arrays to stack must be passed as a \"sequence\" type such as list or tuple. Support for non-sequence iterables such as generators is deprecated as of NumPy 1.16 and will raise an error in the future.\n",
      "  app.launch_new_instance()\n"
     ]
    }
   ],
   "source": [
    "#Stitches 5 images together in a horizontal strip and stores the resulting image in 'img2' folder\n",
    "\n",
    "import numpy as np\n",
    "import PIL\n",
    "\n",
    "list_im = ['toons/Mowgli/img/img6.jpg',\n",
    "            'toons/Mowgli/img/img7.jpg',\n",
    "            'toons/Mowgli/img/wolf1.jpg',\n",
    "           'toons/Mowgli/img/wolf2.jpg',\n",
    "           'toons/Mowgli/img/wolf4.jpg'\n",
    "            ]\n",
    "imgs    = [ PIL.Image.open(i) for i in list_im ]\n",
    "\n",
    "# pick the image which is the smallest, and resize the others to match it (can be arbitrary image shape here)\n",
    "min_shape = sorted( [(np.sum(i.size), i.size ) for i in imgs])[0][1]\n",
    "imgs_comb = np.hstack( (np.asarray( i.resize(min_shape) ) for i in imgs ) )\n",
    "\n",
    "# save that beautiful picture\n",
    "imgs_comb = PIL.Image.fromarray( imgs_comb)\n",
    "imgs_comb.save( 'toons/Mowgli/img2/2.png' )   "
   ]
  },
  {
   "cell_type": "code",
   "execution_count": 217,
   "metadata": {},
   "outputs": [
    {
     "name": "stderr",
     "output_type": "stream",
     "text": [
      "C:\\Users\\keert\\Anaconda3\\lib\\site-packages\\ipykernel_launcher.py:16: FutureWarning: arrays to stack must be passed as a \"sequence\" type such as list or tuple. Support for non-sequence iterables such as generators is deprecated as of NumPy 1.16 and will raise an error in the future.\n",
      "  app.launch_new_instance()\n"
     ]
    }
   ],
   "source": [
    "#Stitches 5 images together in a horizontal strip and stores the resulting image in 'img2' folder\n",
    "\n",
    "import numpy as np\n",
    "import PIL\n",
    "\n",
    "list_im = ['toons/Mowgli/img/wolf6.jpg',\n",
    "            'toons/Mowgli/img/img9.jpg',\n",
    "            'toons/Mowgli/img/img10.jpg',\n",
    "           'toons/Mowgli/img/img12.jpg',\n",
    "           'toons/Mowgli/img/img11.jpg'\n",
    "            ]\n",
    "imgs    = [ PIL.Image.open(i) for i in list_im ]\n",
    "\n",
    "# pick the image which is the smallest, and resize the others to match it (can be arbitrary image shape here)\n",
    "min_shape = sorted( [(np.sum(i.size), i.size ) for i in imgs])[0][1]\n",
    "imgs_comb = np.hstack( (np.asarray( i.resize(min_shape) ) for i in imgs ) )\n",
    "\n",
    "# save that beautiful picture\n",
    "imgs_comb = PIL.Image.fromarray( imgs_comb)\n",
    "imgs_comb.save( 'toons/Mowgli/img2/3.png' )   "
   ]
  },
  {
   "cell_type": "code",
   "execution_count": 218,
   "metadata": {},
   "outputs": [
    {
     "name": "stderr",
     "output_type": "stream",
     "text": [
      "C:\\Users\\keert\\Anaconda3\\lib\\site-packages\\ipykernel_launcher.py:14: FutureWarning: arrays to stack must be passed as a \"sequence\" type such as list or tuple. Support for non-sequence iterables such as generators is deprecated as of NumPy 1.16 and will raise an error in the future.\n",
      "  \n"
     ]
    }
   ],
   "source": [
    "import numpy as np\n",
    "import PIL\n",
    "\n",
    "list_im = ['toons/Mowgli/img/wolf11.jpg',\n",
    "            'toons/Mowgli/img/wolf18.jpg',\n",
    "            'toons/Mowgli/img/wolf12.jpg',\n",
    "           'toons/Mowgli/img/wolf10.jpg',\n",
    "           'toons/Mowgli/img/wolf9.jpg'\n",
    "            ]\n",
    "imgs    = [ PIL.Image.open(i) for i in list_im ]\n",
    "\n",
    "# pick the image which is the smallest, and resize the others to match it (can be arbitrary image shape here)\n",
    "min_shape = sorted( [(np.sum(i.size), i.size ) for i in imgs])[0][1]\n",
    "imgs_comb = np.hstack( (np.asarray( i.resize(min_shape) ) for i in imgs ) )\n",
    "\n",
    "# save the picture\n",
    "imgs_comb = PIL.Image.fromarray( imgs_comb)\n",
    "imgs_comb.save( 'toons/Mowgli/img2/4.png' )   "
   ]
  },
  {
   "cell_type": "code",
   "execution_count": 219,
   "metadata": {},
   "outputs": [
    {
     "name": "stderr",
     "output_type": "stream",
     "text": [
      "C:\\Users\\keert\\Anaconda3\\lib\\site-packages\\ipykernel_launcher.py:14: FutureWarning: arrays to stack must be passed as a \"sequence\" type such as list or tuple. Support for non-sequence iterables such as generators is deprecated as of NumPy 1.16 and will raise an error in the future.\n",
      "  \n"
     ]
    }
   ],
   "source": [
    "import numpy as np\n",
    "import PIL\n",
    "\n",
    "list_im = ['toons/Mowgli/img/wolf8.jpg',\n",
    "            'toons/Mowgli/img/wolf15.jpg',\n",
    "            'toons/Mowgli/img/wolf7.jpg',\n",
    "           'toons/Mowgli/img/wolf13.jpg',\n",
    "           'toons/Mowgli/img/img19.jpg'\n",
    "            ]\n",
    "imgs    = [ PIL.Image.open(i) for i in list_im ]\n",
    "\n",
    "# pick the image which is the smallest, and resize the others to match it (can be arbitrary image shape here)\n",
    "min_shape = sorted( [(np.sum(i.size), i.size ) for i in imgs])[0][1]\n",
    "imgs_comb = np.hstack( (np.asarray( i.resize(min_shape) ) for i in imgs ) )\n",
    "\n",
    "# save that beautiful picture\n",
    "imgs_comb = PIL.Image.fromarray( imgs_comb)\n",
    "imgs_comb.save( 'toons/Mowgli/img2/5.png' )   "
   ]
  },
  {
   "cell_type": "code",
   "execution_count": 220,
   "metadata": {},
   "outputs": [
    {
     "name": "stderr",
     "output_type": "stream",
     "text": [
      "C:\\Users\\keert\\Anaconda3\\lib\\site-packages\\ipykernel_launcher.py:14: FutureWarning: arrays to stack must be passed as a \"sequence\" type such as list or tuple. Support for non-sequence iterables such as generators is deprecated as of NumPy 1.16 and will raise an error in the future.\n",
      "  \n"
     ]
    }
   ],
   "source": [
    "import numpy as np\n",
    "import PIL\n",
    "\n",
    "list_im = ['toons/Mowgli/img/img20.jpg',\n",
    "            'toons/Mowgli/img/img21.jpg',\n",
    "            'toons/Mowgli/img/img22.jpg',\n",
    "           'toons/Mowgli/img/img23.jpg',\n",
    "           'toons/Mowgli/img/img24.jpg'\n",
    "            ]\n",
    "imgs    = [ PIL.Image.open(i) for i in list_im ]\n",
    "\n",
    "# pick the image which is the smallest, and resize the others to match it (can be arbitrary image shape here)\n",
    "min_shape = sorted( [(np.sum(i.size), i.size ) for i in imgs])[0][1]\n",
    "imgs_comb = np.hstack( (np.asarray( i.resize(min_shape) ) for i in imgs ) )\n",
    "\n",
    "# save that beautiful picture\n",
    "imgs_comb = PIL.Image.fromarray( imgs_comb)\n",
    "imgs_comb.save( 'toons/Mowgli/img2/6.png' )   "
   ]
  },
  {
   "cell_type": "code",
   "execution_count": 221,
   "metadata": {},
   "outputs": [
    {
     "name": "stderr",
     "output_type": "stream",
     "text": [
      "C:\\Users\\keert\\Anaconda3\\lib\\site-packages\\ipykernel_launcher.py:14: FutureWarning: arrays to stack must be passed as a \"sequence\" type such as list or tuple. Support for non-sequence iterables such as generators is deprecated as of NumPy 1.16 and will raise an error in the future.\n",
      "  \n"
     ]
    }
   ],
   "source": [
    "import numpy as np\n",
    "import PIL\n",
    "\n",
    "list_im = ['toons/Mowgli/img/kaa1.jpg',\n",
    "            'toons/Mowgli/img/img25.jpg',\n",
    "            'toons/Mowgli/img/kaa2.jpg',\n",
    "           'toons/Mowgli/img/kaa3.jpg',\n",
    "           'toons/Mowgli/img/kaa4.jpg'\n",
    "            ]\n",
    "imgs    = [ PIL.Image.open(i) for i in list_im ]\n",
    "\n",
    "# pick the image which is the smallest, and resize the others to match it (can be arbitrary image shape here)\n",
    "min_shape = sorted( [(np.sum(i.size), i.size ) for i in imgs])[0][1]\n",
    "imgs_comb = np.hstack( (np.asarray( i.resize(min_shape) ) for i in imgs ) )\n",
    "\n",
    "# save that beautiful picture\n",
    "imgs_comb = PIL.Image.fromarray( imgs_comb)\n",
    "imgs_comb.save( 'toons/Mowgli/img2/7.png' )   "
   ]
  },
  {
   "cell_type": "code",
   "execution_count": 222,
   "metadata": {},
   "outputs": [
    {
     "name": "stderr",
     "output_type": "stream",
     "text": [
      "C:\\Users\\keert\\Anaconda3\\lib\\site-packages\\ipykernel_launcher.py:14: FutureWarning: arrays to stack must be passed as a \"sequence\" type such as list or tuple. Support for non-sequence iterables such as generators is deprecated as of NumPy 1.16 and will raise an error in the future.\n",
      "  \n"
     ]
    }
   ],
   "source": [
    "import numpy as np\n",
    "import PIL\n",
    "\n",
    "list_im = ['toons/Mowgli/img/kaa5.jpg',\n",
    "            'toons/Mowgli/img/kaa6.jpg',\n",
    "            'toons/Mowgli/img/kaa7.jpg',\n",
    "           'toons/Mowgli/img/kaa8.jpg',\n",
    "           'toons/Mowgli/img/kaa9.jpg'\n",
    "            ]\n",
    "imgs    = [ PIL.Image.open(i) for i in list_im ]\n",
    "\n",
    "# pick the image which is the smallest, and resize the others to match it (can be arbitrary image shape here)\n",
    "min_shape = sorted( [(np.sum(i.size), i.size ) for i in imgs])[0][1]\n",
    "imgs_comb = np.hstack( (np.asarray( i.resize(min_shape) ) for i in imgs ) )\n",
    "\n",
    "# save that beautiful picture\n",
    "imgs_comb = PIL.Image.fromarray( imgs_comb)\n",
    "imgs_comb.save( 'toons/Mowgli/img2/8.png' )   "
   ]
  },
  {
   "cell_type": "code",
   "execution_count": 223,
   "metadata": {},
   "outputs": [
    {
     "name": "stderr",
     "output_type": "stream",
     "text": [
      "C:\\Users\\keert\\Anaconda3\\lib\\site-packages\\ipykernel_launcher.py:14: FutureWarning: arrays to stack must be passed as a \"sequence\" type such as list or tuple. Support for non-sequence iterables such as generators is deprecated as of NumPy 1.16 and will raise an error in the future.\n",
      "  \n"
     ]
    }
   ],
   "source": [
    "import numpy as np\n",
    "import PIL\n",
    "\n",
    "list_im = ['toons/Mowgli/img/kaa10.jpg',\n",
    "            'toons/Mowgli/img/kaa11.jpg',\n",
    "            'toons/Mowgli/img/kaa13.jpg',\n",
    "           'toons/Mowgli/img/kaa14.jpg',\n",
    "           'toons/Mowgli/img/kaa15.jpg'\n",
    "            ]\n",
    "imgs    = [ PIL.Image.open(i) for i in list_im ]\n",
    "\n",
    "# pick the image which is the smallest, and resize the others to match it (can be arbitrary image shape here)\n",
    "min_shape = sorted( [(np.sum(i.size), i.size ) for i in imgs])[0][1]\n",
    "imgs_comb = np.hstack( (np.asarray( i.resize(min_shape) ) for i in imgs ) )\n",
    "\n",
    "# save that beautiful picture\n",
    "imgs_comb = PIL.Image.fromarray( imgs_comb)\n",
    "imgs_comb.save( 'toons/Mowgli/img2/9.png' )   "
   ]
  },
  {
   "cell_type": "code",
   "execution_count": 224,
   "metadata": {},
   "outputs": [
    {
     "name": "stderr",
     "output_type": "stream",
     "text": [
      "C:\\Users\\keert\\Anaconda3\\lib\\site-packages\\ipykernel_launcher.py:14: FutureWarning: arrays to stack must be passed as a \"sequence\" type such as list or tuple. Support for non-sequence iterables such as generators is deprecated as of NumPy 1.16 and will raise an error in the future.\n",
      "  \n"
     ]
    }
   ],
   "source": [
    "import numpy as np\n",
    "import PIL\n",
    "\n",
    "list_im = ['toons/Mowgli/img/kaa16.jpg',\n",
    "            'toons/Mowgli/img/kaa17.jpg',\n",
    "            'toons/Mowgli/img/kaa18.jpg',\n",
    "           'toons/Mowgli/img/kaa21.jpg',\n",
    "           'toons/Mowgli/img/kaa22.jpg'\n",
    "            ]\n",
    "imgs    = [ PIL.Image.open(i) for i in list_im ]\n",
    "\n",
    "# pick the image which is the smallest, and resize the others to match it (can be arbitrary image shape here)\n",
    "min_shape = sorted( [(np.sum(i.size), i.size ) for i in imgs])[0][1]\n",
    "imgs_comb = np.hstack( (np.asarray( i.resize(min_shape) ) for i in imgs ) )\n",
    "\n",
    "# save that beautiful picture\n",
    "imgs_comb = PIL.Image.fromarray( imgs_comb)\n",
    "imgs_comb.save( 'toons/Mowgli/img2/10.png' )   "
   ]
  },
  {
   "cell_type": "code",
   "execution_count": 225,
   "metadata": {},
   "outputs": [
    {
     "name": "stderr",
     "output_type": "stream",
     "text": [
      "C:\\Users\\keert\\Anaconda3\\lib\\site-packages\\ipykernel_launcher.py:14: FutureWarning: arrays to stack must be passed as a \"sequence\" type such as list or tuple. Support for non-sequence iterables such as generators is deprecated as of NumPy 1.16 and will raise an error in the future.\n",
      "  \n"
     ]
    }
   ],
   "source": [
    "import numpy as np\n",
    "import PIL\n",
    "\n",
    "list_im = ['toons/Mowgli/img/img30.jpg',\n",
    "            'toons/Mowgli/img/img31.jpg',\n",
    "            'toons/Mowgli/img/img32.jpg',\n",
    "           'toons/Mowgli/img/img33.jpg',\n",
    "           'toons/Mowgli/img/img34.jpg'\n",
    "            ]\n",
    "imgs    = [ PIL.Image.open(i) for i in list_im ]\n",
    "\n",
    "# pick the image which is the smallest, and resize the others to match it (can be arbitrary image shape here)\n",
    "min_shape = sorted( [(np.sum(i.size), i.size ) for i in imgs])[0][1]\n",
    "imgs_comb = np.hstack( (np.asarray( i.resize(min_shape) ) for i in imgs ) )\n",
    "\n",
    "# save that beautiful picture\n",
    "imgs_comb = PIL.Image.fromarray( imgs_comb)\n",
    "imgs_comb.save( 'toons/Mowgli/img2/11.png' )   "
   ]
  },
  {
   "cell_type": "code",
   "execution_count": 226,
   "metadata": {},
   "outputs": [
    {
     "name": "stderr",
     "output_type": "stream",
     "text": [
      "C:\\Users\\keert\\Anaconda3\\lib\\site-packages\\ipykernel_launcher.py:14: FutureWarning: arrays to stack must be passed as a \"sequence\" type such as list or tuple. Support for non-sequence iterables such as generators is deprecated as of NumPy 1.16 and will raise an error in the future.\n",
      "  \n"
     ]
    }
   ],
   "source": [
    "import numpy as np\n",
    "import PIL\n",
    "\n",
    "list_im = ['toons/Mowgli/img/img35.jpg',\n",
    "            'toons/Mowgli/img/img36.jpg',\n",
    "            'toons/Mowgli/img/img37.jpg',\n",
    "           'toons/Mowgli/img/img38.jpg',\n",
    "           'toons/Mowgli/img/img39.jpg'\n",
    "            ]\n",
    "imgs    = [ PIL.Image.open(i) for i in list_im ]\n",
    "\n",
    "# pick the image which is the smallest, and resize the others to match it (can be arbitrary image shape here)\n",
    "min_shape = sorted( [(np.sum(i.size), i.size ) for i in imgs])[0][1]\n",
    "imgs_comb = np.hstack( (np.asarray( i.resize(min_shape) ) for i in imgs ) )\n",
    "\n",
    "# save that beautiful picture\n",
    "imgs_comb = PIL.Image.fromarray( imgs_comb)\n",
    "imgs_comb.save( 'toons/Mowgli/img2/12.png' )   "
   ]
  },
  {
   "cell_type": "code",
   "execution_count": 227,
   "metadata": {},
   "outputs": [
    {
     "name": "stderr",
     "output_type": "stream",
     "text": [
      "C:\\Users\\keert\\Anaconda3\\lib\\site-packages\\ipykernel_launcher.py:14: FutureWarning: arrays to stack must be passed as a \"sequence\" type such as list or tuple. Support for non-sequence iterables such as generators is deprecated as of NumPy 1.16 and will raise an error in the future.\n",
      "  \n"
     ]
    }
   ],
   "source": [
    "import numpy as np\n",
    "import PIL\n",
    "\n",
    "list_im = ['toons/Mowgli/img/img40.jpg',\n",
    "            'toons/Mowgli/img/img41.jpg',\n",
    "            'toons/Mowgli/img/img42.jpg',\n",
    "           'toons/Mowgli/img/img43.jpg',\n",
    "           'toons/Mowgli/img/img44.jpg'\n",
    "            ]\n",
    "imgs    = [ PIL.Image.open(i) for i in list_im ]\n",
    "\n",
    "# pick the image which is the smallest, and resize the others to match it (can be arbitrary image shape here)\n",
    "min_shape = sorted( [(np.sum(i.size), i.size ) for i in imgs])[0][1]\n",
    "imgs_comb = np.hstack( (np.asarray( i.resize(min_shape) ) for i in imgs ) )\n",
    "\n",
    "# save that beautiful picture\n",
    "imgs_comb = PIL.Image.fromarray( imgs_comb)\n",
    "imgs_comb.save( 'toons/Mowgli/img2/13.png' )   "
   ]
  },
  {
   "cell_type": "code",
   "execution_count": 228,
   "metadata": {},
   "outputs": [
    {
     "name": "stderr",
     "output_type": "stream",
     "text": [
      "C:\\Users\\keert\\Anaconda3\\lib\\site-packages\\ipykernel_launcher.py:14: FutureWarning: arrays to stack must be passed as a \"sequence\" type such as list or tuple. Support for non-sequence iterables such as generators is deprecated as of NumPy 1.16 and will raise an error in the future.\n",
      "  \n"
     ]
    }
   ],
   "source": [
    "import numpy as np\n",
    "import PIL\n",
    "\n",
    "list_im = ['toons/Mowgli/img/img45.jpg',\n",
    "            'toons/Mowgli/img/img46.jpg',\n",
    "            'toons/Mowgli/img/img47.jpg',\n",
    "           'toons/Mowgli/img/img48.jpg',\n",
    "           'toons/Mowgli/img/img50.jpg'\n",
    "            ]\n",
    "imgs    = [ PIL.Image.open(i) for i in list_im ]\n",
    "\n",
    "# pick the image which is the smallest, and resize the others to match it (can be arbitrary image shape here)\n",
    "min_shape = sorted( [(np.sum(i.size), i.size ) for i in imgs])[0][1]\n",
    "imgs_comb = np.hstack( (np.asarray( i.resize(min_shape) ) for i in imgs ) )\n",
    "\n",
    "# save that beautiful picture\n",
    "imgs_comb = PIL.Image.fromarray( imgs_comb)\n",
    "imgs_comb.save( 'toons/Mowgli/img2/14.png' )   "
   ]
  },
  {
   "cell_type": "code",
   "execution_count": 229,
   "metadata": {},
   "outputs": [
    {
     "name": "stderr",
     "output_type": "stream",
     "text": [
      "C:\\Users\\keert\\Anaconda3\\lib\\site-packages\\ipykernel_launcher.py:14: FutureWarning: arrays to stack must be passed as a \"sequence\" type such as list or tuple. Support for non-sequence iterables such as generators is deprecated as of NumPy 1.16 and will raise an error in the future.\n",
      "  \n"
     ]
    }
   ],
   "source": [
    "import numpy as np\n",
    "import PIL\n",
    "\n",
    "list_im = ['toons/Mowgli/img/img49.jpg',\n",
    "            'toons/Mowgli/img/img51.jpg',\n",
    "            'toons/Mowgli/img/img52.jpg',\n",
    "           'toons/Mowgli/img/img53.jpg',\n",
    "           'toons/Mowgli/img/img54.jpg'\n",
    "            ]\n",
    "imgs    = [ PIL.Image.open(i) for i in list_im ]\n",
    "\n",
    "# pick the image which is the smallest, and resize the others to match it (can be arbitrary image shape here)\n",
    "min_shape = sorted( [(np.sum(i.size), i.size ) for i in imgs])[0][1]\n",
    "imgs_comb = np.hstack( (np.asarray( i.resize(min_shape) ) for i in imgs ) )\n",
    "\n",
    "# save that beautiful picture\n",
    "imgs_comb = PIL.Image.fromarray( imgs_comb)\n",
    "imgs_comb.save( 'toons/Mowgli/img2/15.png' )   "
   ]
  },
  {
   "cell_type": "code",
   "execution_count": 230,
   "metadata": {},
   "outputs": [
    {
     "name": "stderr",
     "output_type": "stream",
     "text": [
      "C:\\Users\\keert\\Anaconda3\\lib\\site-packages\\ipykernel_launcher.py:14: FutureWarning: arrays to stack must be passed as a \"sequence\" type such as list or tuple. Support for non-sequence iterables such as generators is deprecated as of NumPy 1.16 and will raise an error in the future.\n",
      "  \n"
     ]
    }
   ],
   "source": [
    "import numpy as np\n",
    "import PIL\n",
    "\n",
    "list_im = ['toons/Mowgli/img/img55.jpg',\n",
    "            'toons/Mowgli/img/img56.jpg',\n",
    "            'toons/Mowgli/img/img57.jpg',\n",
    "           'toons/Mowgli/img/img58.jpg',\n",
    "           'toons/Mowgli/img/img59.jpg'\n",
    "            ]\n",
    "imgs    = [ PIL.Image.open(i) for i in list_im ]\n",
    "\n",
    "# pick the image which is the smallest, and resize the others to match it (can be arbitrary image shape here)\n",
    "min_shape = sorted( [(np.sum(i.size), i.size ) for i in imgs])[0][1]\n",
    "imgs_comb = np.hstack( (np.asarray( i.resize(min_shape) ) for i in imgs ) )\n",
    "\n",
    "# save that beautiful picture\n",
    "imgs_comb = PIL.Image.fromarray( imgs_comb)\n",
    "imgs_comb.save( 'toons/Mowgli/img2/16.png' )   "
   ]
  },
  {
   "cell_type": "code",
   "execution_count": 231,
   "metadata": {},
   "outputs": [
    {
     "name": "stderr",
     "output_type": "stream",
     "text": [
      "C:\\Users\\keert\\Anaconda3\\lib\\site-packages\\ipykernel_launcher.py:14: FutureWarning: arrays to stack must be passed as a \"sequence\" type such as list or tuple. Support for non-sequence iterables such as generators is deprecated as of NumPy 1.16 and will raise an error in the future.\n",
      "  \n"
     ]
    }
   ],
   "source": [
    "import numpy as np\n",
    "import PIL\n",
    "\n",
    "list_im = ['toons/Mowgli/img/img60.jpg',\n",
    "            'toons/Mowgli/img/img62.jpg',\n",
    "            'toons/Mowgli/img/img63.jpg',\n",
    "           'toons/Mowgli/img/img64.jpg',\n",
    "           'toons/Mowgli/img/img65.jpg'\n",
    "            ]\n",
    "imgs    = [ PIL.Image.open(i) for i in list_im ]\n",
    "\n",
    "# pick the image which is the smallest, and resize the others to match it (can be arbitrary image shape here)\n",
    "min_shape = sorted( [(np.sum(i.size), i.size ) for i in imgs])[0][1]\n",
    "imgs_comb = np.hstack( (np.asarray( i.resize(min_shape) ) for i in imgs ) )\n",
    "\n",
    "# save that beautiful picture\n",
    "imgs_comb = PIL.Image.fromarray( imgs_comb)\n",
    "imgs_comb.save( 'toons/Mowgli/img2/17.png' )   "
   ]
  },
  {
   "cell_type": "code",
   "execution_count": 232,
   "metadata": {},
   "outputs": [
    {
     "name": "stderr",
     "output_type": "stream",
     "text": [
      "C:\\Users\\keert\\Anaconda3\\lib\\site-packages\\ipykernel_launcher.py:14: FutureWarning: arrays to stack must be passed as a \"sequence\" type such as list or tuple. Support for non-sequence iterables such as generators is deprecated as of NumPy 1.16 and will raise an error in the future.\n",
      "  \n"
     ]
    }
   ],
   "source": [
    "import numpy as np\n",
    "import PIL\n",
    "\n",
    "list_im = ['toons/Mowgli/img/img66.jpg',\n",
    "            'toons/Mowgli/img/img67.jpg',\n",
    "            'toons/Mowgli/img/img68.jpg',\n",
    "           'toons/Mowgli/img/img69.jpg',\n",
    "           'toons/Mowgli/img/img70-1.jpg'\n",
    "            ]\n",
    "imgs    = [ PIL.Image.open(i) for i in list_im ]\n",
    "\n",
    "# pick the image which is the smallest, and resize the others to match it (can be arbitrary image shape here)\n",
    "min_shape = sorted( [(np.sum(i.size), i.size ) for i in imgs])[0][1]\n",
    "imgs_comb = np.hstack( (np.asarray( i.resize(min_shape) ) for i in imgs ) )\n",
    "\n",
    "# save that beautiful picture\n",
    "imgs_comb = PIL.Image.fromarray( imgs_comb)\n",
    "imgs_comb.save( 'toons/Mowgli/img2/18.png' )   "
   ]
  },
  {
   "cell_type": "code",
   "execution_count": 233,
   "metadata": {},
   "outputs": [
    {
     "name": "stderr",
     "output_type": "stream",
     "text": [
      "C:\\Users\\keert\\Anaconda3\\lib\\site-packages\\ipykernel_launcher.py:14: FutureWarning: arrays to stack must be passed as a \"sequence\" type such as list or tuple. Support for non-sequence iterables such as generators is deprecated as of NumPy 1.16 and will raise an error in the future.\n",
      "  \n"
     ]
    }
   ],
   "source": [
    "import numpy as np\n",
    "import PIL\n",
    "\n",
    "list_im = ['toons/Mowgli/img/img71.jpg',\n",
    "            'toons/Mowgli/img/img72.jpg',\n",
    "            'toons/Mowgli/img/img73.jpg',\n",
    "           'toons/Mowgli/img/img74.jpg',\n",
    "           'toons/Mowgli/img/img75.jpg'\n",
    "            ]\n",
    "imgs    = [ PIL.Image.open(i) for i in list_im ]\n",
    "\n",
    "# pick the image which is the smallest, and resize the others to match it (can be arbitrary image shape here)\n",
    "min_shape = sorted( [(np.sum(i.size), i.size ) for i in imgs])[0][1]\n",
    "imgs_comb = np.hstack( (np.asarray( i.resize(min_shape) ) for i in imgs ) )\n",
    "\n",
    "# save that beautiful picture\n",
    "imgs_comb = PIL.Image.fromarray( imgs_comb)\n",
    "imgs_comb.save( 'toons/Mowgli/img2/19.png' )   "
   ]
  },
  {
   "cell_type": "code",
   "execution_count": 234,
   "metadata": {},
   "outputs": [
    {
     "name": "stderr",
     "output_type": "stream",
     "text": [
      "C:\\Users\\keert\\Anaconda3\\lib\\site-packages\\ipykernel_launcher.py:14: FutureWarning: arrays to stack must be passed as a \"sequence\" type such as list or tuple. Support for non-sequence iterables such as generators is deprecated as of NumPy 1.16 and will raise an error in the future.\n",
      "  \n"
     ]
    }
   ],
   "source": [
    "import numpy as np\n",
    "import PIL\n",
    "\n",
    "list_im = ['toons/Mowgli/img/img76.jpg',\n",
    "            'toons/Mowgli/img/img77.jpg',\n",
    "            'toons/Mowgli/img/img78.jpg',\n",
    "           'toons/Mowgli/img/img79.jpg',\n",
    "           'toons/Mowgli/img/img80.jpg'\n",
    "            ]\n",
    "imgs    = [ PIL.Image.open(i) for i in list_im ]\n",
    "\n",
    "# pick the image which is the smallest, and resize the others to match it (can be arbitrary image shape here)\n",
    "min_shape = sorted( [(np.sum(i.size), i.size ) for i in imgs])[0][1]\n",
    "imgs_comb = np.hstack( (np.asarray( i.resize(min_shape) ) for i in imgs ) )\n",
    "\n",
    "# save that beautiful picture\n",
    "imgs_comb = PIL.Image.fromarray( imgs_comb)\n",
    "imgs_comb.save( 'toons/Mowgli/img2/20.png' )   "
   ]
  },
  {
   "cell_type": "code",
   "execution_count": 235,
   "metadata": {},
   "outputs": [
    {
     "name": "stderr",
     "output_type": "stream",
     "text": [
      "C:\\Users\\keert\\Anaconda3\\lib\\site-packages\\ipykernel_launcher.py:11: FutureWarning: arrays to stack must be passed as a \"sequence\" type such as list or tuple. Support for non-sequence iterables such as generators is deprecated as of NumPy 1.16 and will raise an error in the future.\n",
      "  # This is added back by InteractiveShellApp.init_path()\n"
     ]
    }
   ],
   "source": [
    "#Stitches 5 images together in a vertical strip and stores the resulting image in 'img3' folder\n",
    "\n",
    "list_im = ['toons/Mowgli/img2/1.png',\n",
    "            'toons/Mowgli/img2/2.png',\n",
    "            'toons/Mowgli/img2/3.png',\n",
    "            'toons/Mowgli/img2/4.png']\n",
    "imgs    = [ PIL.Image.open(i) for i in list_im ]\n",
    "\n",
    "# pick the image which is the smallest, and resize the others to match it (can be arbitrary image shape here)\n",
    "min_shape = sorted( [(np.sum(i.size), i.size ) for i in imgs])[0][1]\n",
    "imgs_comb = np.vstack( (np.asarray( i.resize(min_shape) ) for i in imgs ) )\n",
    "\n",
    "# save that beautiful picture\n",
    "imgs_comb = PIL.Image.fromarray( imgs_comb)\n",
    "imgs_comb.save( 'toons/Mowgli/img3/image1.png' ) "
   ]
  },
  {
   "cell_type": "code",
   "execution_count": 236,
   "metadata": {},
   "outputs": [
    {
     "name": "stderr",
     "output_type": "stream",
     "text": [
      "C:\\Users\\keert\\Anaconda3\\lib\\site-packages\\ipykernel_launcher.py:11: FutureWarning: arrays to stack must be passed as a \"sequence\" type such as list or tuple. Support for non-sequence iterables such as generators is deprecated as of NumPy 1.16 and will raise an error in the future.\n",
      "  # This is added back by InteractiveShellApp.init_path()\n"
     ]
    }
   ],
   "source": [
    "#Stitches 5 images together in a vertical strip and stores the resulting image in 'img3' folder\n",
    "\n",
    "list_im = ['toons/Mowgli/img2/5.png',\n",
    "            'toons/Mowgli/img2/6.png',\n",
    "            'toons/Mowgli/img2/7.png',\n",
    "            'toons/Mowgli/img2/8.png']\n",
    "imgs    = [ PIL.Image.open(i) for i in list_im ]\n",
    "\n",
    "# pick the image which is the smallest, and resize the others to match it (can be arbitrary image shape here)\n",
    "min_shape = sorted( [(np.sum(i.size), i.size ) for i in imgs])[0][1]\n",
    "imgs_comb = np.vstack( (np.asarray( i.resize(min_shape) ) for i in imgs ) )\n",
    "\n",
    "# save that beautiful picture\n",
    "imgs_comb = PIL.Image.fromarray( imgs_comb)\n",
    "imgs_comb.save( 'toons/Mowgli/img3/image2.png' ) "
   ]
  },
  {
   "cell_type": "code",
   "execution_count": 237,
   "metadata": {},
   "outputs": [
    {
     "name": "stderr",
     "output_type": "stream",
     "text": [
      "C:\\Users\\keert\\Anaconda3\\lib\\site-packages\\ipykernel_launcher.py:9: FutureWarning: arrays to stack must be passed as a \"sequence\" type such as list or tuple. Support for non-sequence iterables such as generators is deprecated as of NumPy 1.16 and will raise an error in the future.\n",
      "  if __name__ == '__main__':\n"
     ]
    }
   ],
   "source": [
    "list_im = ['toons/Mowgli/img2/9.png',\n",
    "            'toons/Mowgli/img2/10.png',\n",
    "            'toons/Mowgli/img2/11.png',\n",
    "            'toons/Mowgli/img2/12.png']\n",
    "imgs    = [ PIL.Image.open(i) for i in list_im ]\n",
    "\n",
    "# pick the image which is the smallest, and resize the others to match it (can be arbitrary image shape here)\n",
    "min_shape = sorted( [(np.sum(i.size), i.size ) for i in imgs])[0][1]\n",
    "imgs_comb = np.vstack( (np.asarray( i.resize(min_shape) ) for i in imgs ) )\n",
    "\n",
    "# save that beautiful picture\n",
    "imgs_comb = PIL.Image.fromarray( imgs_comb)\n",
    "imgs_comb.save( 'toons/Mowgli/img3/image3.png' ) "
   ]
  },
  {
   "cell_type": "code",
   "execution_count": 238,
   "metadata": {},
   "outputs": [
    {
     "name": "stderr",
     "output_type": "stream",
     "text": [
      "C:\\Users\\keert\\Anaconda3\\lib\\site-packages\\ipykernel_launcher.py:9: FutureWarning: arrays to stack must be passed as a \"sequence\" type such as list or tuple. Support for non-sequence iterables such as generators is deprecated as of NumPy 1.16 and will raise an error in the future.\n",
      "  if __name__ == '__main__':\n"
     ]
    }
   ],
   "source": [
    "list_im = ['toons/Mowgli/img2/13.png',\n",
    "            'toons/Mowgli/img2/14.png',\n",
    "            'toons/Mowgli/img2/15.png',\n",
    "            'toons/Mowgli/img2/16.png']\n",
    "imgs    = [ PIL.Image.open(i) for i in list_im ]\n",
    "\n",
    "# pick the image which is the smallest, and resize the others to match it (can be arbitrary image shape here)\n",
    "min_shape = sorted( [(np.sum(i.size), i.size ) for i in imgs])[0][1]\n",
    "imgs_comb = np.vstack( (np.asarray( i.resize(min_shape) ) for i in imgs ) )\n",
    "\n",
    "# save that beautiful picture\n",
    "imgs_comb = PIL.Image.fromarray( imgs_comb)\n",
    "imgs_comb.save( 'toons/Mowgli/img3/image4.png' ) "
   ]
  },
  {
   "cell_type": "code",
   "execution_count": 239,
   "metadata": {},
   "outputs": [
    {
     "name": "stderr",
     "output_type": "stream",
     "text": [
      "C:\\Users\\keert\\Anaconda3\\lib\\site-packages\\ipykernel_launcher.py:9: FutureWarning: arrays to stack must be passed as a \"sequence\" type such as list or tuple. Support for non-sequence iterables such as generators is deprecated as of NumPy 1.16 and will raise an error in the future.\n",
      "  if __name__ == '__main__':\n"
     ]
    }
   ],
   "source": [
    "list_im = ['toons/Mowgli/img2/17.png',\n",
    "            'toons/Mowgli/img2/18.png',\n",
    "            'toons/Mowgli/img2/19.png',\n",
    "            'toons/Mowgli/img2/20.png']\n",
    "imgs    = [ PIL.Image.open(i) for i in list_im ]\n",
    "\n",
    "# pick the image which is the smallest, and resize the others to match it (can be arbitrary image shape here)\n",
    "min_shape = sorted( [(np.sum(i.size), i.size ) for i in imgs])[0][1]\n",
    "imgs_comb = np.vstack( (np.asarray( i.resize(min_shape) ) for i in imgs ) )\n",
    "\n",
    "# save that beautiful picture\n",
    "imgs_comb = PIL.Image.fromarray( imgs_comb)\n",
    "imgs_comb.save( 'toons/Mowgli/img3/image5.png' ) "
   ]
  },
  {
   "cell_type": "code",
   "execution_count": 240,
   "metadata": {},
   "outputs": [
    {
     "name": "stdout",
     "output_type": "stream",
     "text": [
      "Requirement already satisfied: fpdf in c:\\users\\keert\\anaconda3\\lib\\site-packages (1.7.2)\n",
      "Note: you may need to restart the kernel to use updated packages.\n"
     ]
    }
   ],
   "source": [
    "pip install fpdf"
   ]
  },
  {
   "cell_type": "code",
   "execution_count": 241,
   "metadata": {},
   "outputs": [
    {
     "name": "stdout",
     "output_type": "stream",
     "text": [
      "done!\n"
     ]
    }
   ],
   "source": [
    "#Creates a PDF file of all the vertical strip images and stores it in 'img3' folder\n",
    "\n",
    "from PIL import Image\n",
    "from fpdf import FPDF\n",
    "\n",
    "#pdf = FPDF()\n",
    "cover = Image.open('toons/Mowgli/cover.jpg')\n",
    "width, height = cover.size\n",
    "pdf = FPDF(unit = \"pt\", format = [width, height])\n",
    "    \n",
    "# imagelist is the list with all image filenames\n",
    "imagelist = ['toons/Mowgli/img3/image1.png', \n",
    "             'toons/Mowgli/img3/image2.png', \n",
    "             'toons/Mowgli/img3/image3.png', \n",
    "             'toons/Mowgli/img3/image4.png',\n",
    "            'toons/Mowgli/img3/image5.png']\n",
    "\n",
    "for image in imagelist:\n",
    "    pdf.add_page()\n",
    "    pdf.image(image, 0, 0, width, height)\n",
    "pdf.output(\"toons/Mowgli/img3/book.pdf\", \"F\")\n",
    "print(\"done!\")"
   ]
  },
  {
   "cell_type": "code",
   "execution_count": null,
   "metadata": {},
   "outputs": [],
   "source": []
  },
  {
   "cell_type": "code",
   "execution_count": null,
   "metadata": {},
   "outputs": [],
   "source": []
  },
  {
   "cell_type": "code",
   "execution_count": null,
   "metadata": {},
   "outputs": [],
   "source": []
  },
  {
   "cell_type": "code",
   "execution_count": null,
   "metadata": {},
   "outputs": [],
   "source": []
  }
 ],
 "metadata": {
  "kernelspec": {
   "display_name": "Python 3",
   "language": "python",
   "name": "python3"
  },
  "language_info": {
   "codemirror_mode": {
    "name": "ipython",
    "version": 3
   },
   "file_extension": ".py",
   "mimetype": "text/x-python",
   "name": "python",
   "nbconvert_exporter": "python",
   "pygments_lexer": "ipython3",
   "version": "3.7.4"
  }
 },
 "nbformat": 4,
 "nbformat_minor": 2
}
